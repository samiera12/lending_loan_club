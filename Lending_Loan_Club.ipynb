{
  "nbformat": 4,
  "nbformat_minor": 0,
  "metadata": {
    "colab": {
      "provenance": []
    },
    "kernelspec": {
      "name": "python3",
      "display_name": "Python 3"
    },
    "language_info": {
      "name": "python"
    }
  },
  "cells": [
    {
      "cell_type": "code",
      "execution_count": 1,
      "metadata": {
        "id": "b9chemm0zOIz"
      },
      "outputs": [],
      "source": [
        "import pandas as pd\n",
        "import numpy as np\n",
        "import matplotlib.pyplot as plt\n",
        "from sklearn.model_selection import train_test_split\n",
        "from sklearn.ensemble import RandomForestClassifier\n",
        "from sklearn.metrics import classification_report, roc_auc_score, confusion_matrix"
      ]
    },
    {
      "cell_type": "code",
      "source": [
        "df = pd.read_csv('loans_full_schema.csv')  # your upload\n",
        "print(\"Initial data:\", df.shape)\n",
        "print(df.columns.tolist())"
      ],
      "metadata": {
        "colab": {
          "base_uri": "https://localhost:8080/"
        },
        "id": "C2leLuI740tM",
        "outputId": "85353387-bbf1-4752-c74c-6a791972fe51"
      },
      "execution_count": 2,
      "outputs": [
        {
          "output_type": "stream",
          "name": "stdout",
          "text": [
            "Initial data: (10000, 56)\n",
            "['Unnamed: 0', 'emp_title', 'emp_length', 'state', 'homeownership', 'annual_income', 'verified_income', 'debt_to_income', 'annual_income_joint', 'verification_income_joint', 'debt_to_income_joint', 'delinq_2y', 'months_since_last_delinq', 'earliest_credit_line', 'inquiries_last_12m', 'total_credit_lines', 'open_credit_lines', 'total_credit_limit', 'total_credit_utilized', 'num_collections_last_12m', 'num_historical_failed_to_pay', 'months_since_90d_late', 'current_accounts_delinq', 'total_collection_amount_ever', 'current_installment_accounts', 'accounts_opened_24m', 'months_since_last_credit_inquiry', 'num_satisfactory_accounts', 'num_accounts_120d_past_due', 'num_accounts_30d_past_due', 'num_active_debit_accounts', 'total_debit_limit', 'num_total_cc_accounts', 'num_open_cc_accounts', 'num_cc_carrying_balance', 'num_mort_accounts', 'account_never_delinq_percent', 'tax_liens', 'public_record_bankrupt', 'loan_purpose', 'application_type', 'loan_amount', 'term', 'interest_rate', 'installment', 'grade', 'sub_grade', 'issue_month', 'loan_status', 'initial_listing_status', 'disbursement_method', 'balance', 'paid_total', 'paid_principal', 'paid_interest', 'paid_late_fees']\n"
          ]
        }
      ]
    },
    {
      "cell_type": "code",
      "source": [
        "# Select relevant columns (from your data)\n",
        "df = df[['loan_amount', 'term', 'interest_rate', 'annual_income', 'debt_to_income', 'loan_status']].dropna()\n",
        "# Preprocess interest rate (if needed)\n",
        "df['interest_rate'] = df['interest_rate'].astype(float)\n",
        "df['term'] = df['term'].astype(int)\n",
        "\n",
        "# Filter rows with known outcomes\n",
        "df = df[df['loan_status'].isin(['Fully Paid', 'Charged Off'])]\n",
        "\n",
        "# Define features and target\n",
        "y = df['loan_status'].map({'Fully Paid': 0, 'Charged Off': 1})\n",
        "X = df.drop('loan_status', axis=1)"
      ],
      "metadata": {
        "id": "gDRtE_pt48Hp"
      },
      "execution_count": 3,
      "outputs": []
    },
    {
      "cell_type": "code",
      "source": [
        "print(\"Target distribution:\\n\", y.value_counts(normalize=True))"
      ],
      "metadata": {
        "colab": {
          "base_uri": "https://localhost:8080/"
        },
        "id": "8bJoooJY5yFs",
        "outputId": "bcacea00-38fd-4185-c663-bb06db04d407"
      },
      "execution_count": 4,
      "outputs": [
        {
          "output_type": "stream",
          "name": "stdout",
          "text": [
            "Target distribution:\n",
            " loan_status\n",
            "0    0.984513\n",
            "1    0.015487\n",
            "Name: proportion, dtype: float64\n"
          ]
        }
      ]
    },
    {
      "cell_type": "code",
      "source": [
        "from imblearn.over_sampling import SMOTE\n",
        "\n",
        "# Split the data\n",
        "X_train, X_val, y_train, y_val = train_test_split(\n",
        "    X, y, test_size=0.2, stratify=y, random_state=42\n",
        ")\n",
        "\n",
        "# count minority samples in the current training split\n",
        "minority_count = y_train.value_counts()[1]\n",
        "# choose k_neighbors so it's always less than minority_count\n",
        "k = min(5, minority_count - 1)\n",
        "\n",
        "sm = SMOTE(random_state=42, k_neighbors=k, sampling_strategy=0.5)\n",
        "X_res, y_res = sm.fit_resample(X_train, y_train)\n",
        "# smote = SMOTE(random_state=42)\n",
        "# X_train_resampled, y_train_resampled = smote.fit_resample(X_train, y_train)\n",
        "\n",
        "# Train model\n",
        "model = RandomForestClassifier(n_estimators=100, class_weight='balanced' , random_state=42)\n",
        "model.fit(X_res, y_res)\n",
        "\n",
        "# Predict\n",
        "y_proba = model.predict_proba(X_val)[:, 1]\n",
        "y_pred = (y_proba >= 0.45).astype(int)  # Try lowering threshold from 0.5 to 0.4\n",
        "\n",
        "# Evaluate\n",
        "print(\"Classification Report:\\n\", classification_report(y_val, y_pred))\n",
        "print(\"ROC AUC Score:\", roc_auc_score(y_val, y_proba))\n",
        "print(\"Confusion Matrix:\\n\", confusion_matrix(y_val, y_pred))\n"
      ],
      "metadata": {
        "colab": {
          "base_uri": "https://localhost:8080/"
        },
        "id": "STuHs7XR6uNJ",
        "outputId": "c914c204-a650-4b28-afb8-44aacbb1f532"
      },
      "execution_count": 18,
      "outputs": [
        {
          "output_type": "stream",
          "name": "stdout",
          "text": [
            "Classification Report:\n",
            "               precision    recall  f1-score   support\n",
            "\n",
            "           0       1.00      0.98      0.99        90\n",
            "           1       0.33      1.00      0.50         1\n",
            "\n",
            "    accuracy                           0.98        91\n",
            "   macro avg       0.67      0.99      0.74        91\n",
            "weighted avg       0.99      0.98      0.98        91\n",
            "\n",
            "ROC AUC Score: 0.9777777777777777\n",
            "Confusion Matrix:\n",
            " [[88  2]\n",
            " [ 0  1]]\n"
          ]
        }
      ]
    },
    {
      "cell_type": "code",
      "source": [
        "importances = pd.Series(model.feature_importances_, index=X.columns)\n",
        "importances.sort_values().plot(kind='barh', title='Feature Importances')\n",
        "plt.show()"
      ],
      "metadata": {
        "colab": {
          "base_uri": "https://localhost:8080/",
          "height": 452
        },
        "id": "g6GQrjCRFtcK",
        "outputId": "91500729-059b-4775-f2ae-1fada4a45cf6"
      },
      "execution_count": 7,
      "outputs": [
        {
          "output_type": "display_data",
          "data": {
            "text/plain": [
              "<Figure size 640x480 with 1 Axes>"
            ],
            "image/png": "[encoded data removed]"
          },
          "metadata": {}
        }
      ]
    }
  ]
}